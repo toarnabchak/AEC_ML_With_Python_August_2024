{
 "cells": [
  {
   "cell_type": "markdown",
   "id": "19f8c39d-8271-45d1-a00a-30224b5591c5",
   "metadata": {},
   "source": [
    "# **Numpy: Arrays and Matrices**"
   ]
  },
  {
   "cell_type": "markdown",
   "id": "3996bc90-1705-4e4b-8164-8521da3efa42",
   "metadata": {},
   "source": [
    "**NumPy is an extension to the Python Programming language, adding support for large, multi-dimensional arrays and with a large-level of mathematical functions to operate on those arrays. NumPy is having the full form \"Numeric Python\".**"
   ]
  },
  {
   "cell_type": "code",
   "execution_count": 1,
   "id": "5c87f159-a176-44cf-82e6-1babd14e8d5b",
   "metadata": {},
   "outputs": [],
   "source": [
    "# importing required module\n",
    "import numpy as np"
   ]
  },
  {
   "cell_type": "markdown",
   "id": "8a98ad34-eeef-4a74-a8a0-c61a31eda4a4",
   "metadata": {},
   "source": [
    "## **Create arrays**"
   ]
  },
  {
   "cell_type": "code",
   "execution_count": 6,
   "id": "3a07e924-7192-4784-91c5-abfc16160edf",
   "metadata": {},
   "outputs": [
    {
     "name": "stdout",
     "output_type": "stream",
     "text": [
      "[100, 300, 200, False, 400, True, 500] 7 <class 'list'>\n",
      "[100 300 200   0 400   1 500] 7 <class 'numpy.ndarray'>\n"
     ]
    }
   ],
   "source": [
    "# creating ndarrays from lists\n",
    "# note: in one ndarray, all data will have same datatype. (And will be converted if required)\n",
    "data1 = [100, 300, 200, False, 400, True, 500]\n",
    "print (data1, len(data1), type(data1))\n",
    "arr1 = np.array(data1)\n",
    "print (arr1, len(arr1), type(arr1))"
   ]
  },
  {
   "cell_type": "code",
   "execution_count": 8,
   "id": "4c97e27a-a9d6-4088-903f-2251645b8193",
   "metadata": {},
   "outputs": [
    {
     "name": "stdout",
     "output_type": "stream",
     "text": [
      "[100, 300, 200.5, 400, True, False, 500] 7 <class 'list'>\n",
      "[100.  300.  200.5 400.    1.    0.  500. ] 7 <class 'numpy.ndarray'>\n"
     ]
    }
   ],
   "source": [
    "data1 = [100, 300, 200.5, 400, True, False, 500]\n",
    "print (data1, len(data1), type(data1))\n",
    "arr1 = np.array(data1)\n",
    "print (arr1, len(arr1), type(arr1))"
   ]
  },
  {
   "cell_type": "code",
   "execution_count": 9,
   "id": "3dde8571-b993-4832-97e6-95ca9edc95e3",
   "metadata": {},
   "outputs": [
    {
     "name": "stdout",
     "output_type": "stream",
     "text": [
      "[100, 300, 200.5, '400', True, False, 500] 7 <class 'list'>\n",
      "['100' '300' '200.5' '400' 'True' 'False' '500'] 7 <class 'numpy.ndarray'>\n"
     ]
    }
   ],
   "source": [
    "data1 = [100, 300, 200.5, \"400\", True, False, 500]\n",
    "print (data1, len(data1), type(data1))\n",
    "arr1 = np.array(data1)\n",
    "print (arr1, len(arr1), type(arr1))"
   ]
  },
  {
   "cell_type": "code",
   "execution_count": 10,
   "id": "9f506612-4d54-4790-a3b3-fb10254d7006",
   "metadata": {},
   "outputs": [
    {
     "name": "stdout",
     "output_type": "stream",
     "text": [
      "[1, 2, 3, 4, 5, 6, 7, 8, 9]\n"
     ]
    }
   ],
   "source": [
    "print (list(range(1, 10)))"
   ]
  },
  {
   "cell_type": "code",
   "execution_count": 11,
   "id": "f1939041-b3af-4d1b-8419-96cd31cb8e77",
   "metadata": {},
   "outputs": [
    {
     "name": "stdout",
     "output_type": "stream",
     "text": [
      "[10, 20, 30, 40, 50, 60, 70, 80] 8 <class 'list'>\n",
      "[10 20 30 40 50 60 70 80] 8 <class 'numpy.ndarray'>\n"
     ]
    }
   ],
   "source": [
    "data1 = [10, 20, 30, 40, 50, 60, 70, 80]\n",
    "print (data1, len(data1), type(data1))\n",
    "arr1 = np.array(data1)\n",
    "print (arr1, len(arr1), type(arr1))"
   ]
  },
  {
   "cell_type": "code",
   "execution_count": 14,
   "id": "f68aae35-ebd4-41df-bb58-e254357b128b",
   "metadata": {},
   "outputs": [
    {
     "name": "stdout",
     "output_type": "stream",
     "text": [
      "[range(1, 5), range(5, 9)]\n",
      "[[1, 2, 3, 4], [5, 6, 7, 8]] <class 'list'>\n",
      "[[1 2 3 4]\n",
      " [5 6 7 8]] <class 'numpy.ndarray'>\n"
     ]
    }
   ],
   "source": [
    "print (list([range(1, 5), range(5, 9)]))   # list of lists\n",
    "# data2 = list([range(1, 5), range(5, 9)])\n",
    "data2 = [[1, 2 , 3, 4], [5, 6, 7, 8]]\n",
    "arr2 = np.array(data2)\n",
    "print(data2, type(data2))\n",
    "print (arr2, type(arr2))"
   ]
  },
  {
   "cell_type": "code",
   "execution_count": 17,
   "id": "e90834ed-00c1-466f-b532-787c3adbc83d",
   "metadata": {},
   "outputs": [
    {
     "name": "stdout",
     "output_type": "stream",
     "text": [
      "1, 2, 3, 4, 5, 6, 7, 8, "
     ]
    }
   ],
   "source": [
    "for x in np.nditer(arr2):\n",
    "    print (x, end = \", \")"
   ]
  },
  {
   "cell_type": "code",
   "execution_count": 25,
   "id": "2e3ff9ab-1d3e-4670-9cca-7dd58e4bddee",
   "metadata": {},
   "outputs": [
    {
     "name": "stdout",
     "output_type": "stream",
     "text": [
      "[10 20 30 40 50 60 70 80] (8,) <class 'numpy.ndarray'>\n",
      "[[1 2 3 4]\n",
      " [5 6 7 8]] (2, 4) <class 'numpy.ndarray'>\n",
      "[10, 20, 30, 40, 50, 60, 70, 80] <class 'list'>\n",
      "[[1, 2, 3, 4], [5, 6, 7, 8]] <class 'list'>\n"
     ]
    }
   ],
   "source": [
    "print (arr1, arr1.shape, type(arr1))\n",
    "print (arr2, arr2.shape, type(arr2))\n",
    "data1 = arr1.tolist()\n",
    "print (data1, type(data1))\n",
    "data2 = arr2.tolist()\n",
    "print (data2, type(data2))"
   ]
  },
  {
   "cell_type": "code",
   "execution_count": 31,
   "id": "15c833b2-a6b7-4edf-94cf-f9ca453b13f8",
   "metadata": {},
   "outputs": [
    {
     "name": "stdout",
     "output_type": "stream",
     "text": [
      "[10 20 30 40 50 60 70 80] <class 'numpy.ndarray'>\n",
      "8 (8,) 1 8 int32\n",
      "[[1 2 3 4]\n",
      " [5 6 7 8]] <class 'numpy.ndarray'>\n",
      "2 (2, 4) 2 8 int32\n"
     ]
    }
   ],
   "source": [
    "print (arr1, type(arr1))\n",
    "print (len(arr1), arr1.shape, arr1.ndim, arr1.size, arr1.dtype)\n",
    "print (arr2, type(arr2))\n",
    "print (len(arr2), arr2.shape, arr2.ndim, arr2.size, arr2.dtype)"
   ]
  },
  {
   "cell_type": "code",
   "execution_count": 30,
   "id": "2cfef2bd-b98d-43c3-bdfa-44fc84f86bce",
   "metadata": {},
   "outputs": [
    {
     "name": "stdout",
     "output_type": "stream",
     "text": [
      "8 <class 'int'>\n",
      "(8,) <class 'tuple'>\n"
     ]
    }
   ],
   "source": [
    "var1 = (8)\n",
    "print (var1, type(var1))\n",
    "var1 = (8,) # singleton representation of a tuple\n",
    "print (var1, type(var1))"
   ]
  },
  {
   "cell_type": "markdown",
   "id": "ee4f2f3e-3c84-40bd-afde-cad14ccbfc02",
   "metadata": {},
   "source": [
    "## **Creating Special Arrays**"
   ]
  },
  {
   "cell_type": "code",
   "execution_count": 40,
   "id": "4a925b4b-0feb-4b3f-8d26-6bbc23842f0a",
   "metadata": {},
   "outputs": [
    {
     "name": "stdout",
     "output_type": "stream",
     "text": [
      "[0. 0. 0. 0. 0. 0. 0. 0. 0. 0.]\n",
      "[0 0 0 0 0 0 0 0 0 0]\n",
      "[[0. 0. 0. 0. 0.]\n",
      " [0. 0. 0. 0. 0.]]\n",
      "[[0 0 0 0 0]\n",
      " [0 0 0 0 0]]\n",
      "[[0. 0. 0. 0. 0.]\n",
      " [0. 0. 0. 0. 0.]]\n",
      "[[0 0]\n",
      " [0 0]\n",
      " [0 0]\n",
      " [0 0]\n",
      " [0 0]]\n"
     ]
    }
   ],
   "source": [
    "print (np.zeros(10))\n",
    "print (np.zeros(10).astype(int))\n",
    "print (np.zeros((2, 5)))\n",
    "print (np.zeros((2, 5)).astype(int))\n",
    "print (np.zeros(10).reshape(2, 5))\n",
    "print (np.zeros(10).reshape(5, 2).astype(int))"
   ]
  },
  {
   "cell_type": "code",
   "execution_count": 42,
   "id": "712aa872-6a96-49fb-8013-a432de46a601",
   "metadata": {},
   "outputs": [
    {
     "name": "stdout",
     "output_type": "stream",
     "text": [
      "[[0 0 0 0 0]\n",
      " [0 0 0 0 0]]\n",
      "[[0. 0. 0. 0. 0.]\n",
      " [0. 0. 0. 0. 0.]]\n"
     ]
    }
   ],
   "source": [
    "arr3 = np.zeros(10).reshape(2, 5).astype(int)\n",
    "print (arr3)\n",
    "arr3 = arr3.astype(float)\n",
    "print (arr3)"
   ]
  },
  {
   "cell_type": "code",
   "execution_count": 57,
   "id": "0e3da176-75f4-4586-9dc7-46c494fbf683",
   "metadata": {},
   "outputs": [
    {
     "name": "stdout",
     "output_type": "stream",
     "text": [
      "[[0 1]\n",
      " [2 3]\n",
      " [4 5]\n",
      " [6 7]\n",
      " [8 9]] (5, 2)\n",
      "[[0 1]\n",
      " [2 3]\n",
      " [4 5]\n",
      " [6 7]\n",
      " [8 9]] (5, 2)\n",
      "[[0 2 4 6 8]\n",
      " [1 3 5 7 9]]\n",
      "[[0 2 4 6 8]\n",
      " [1 3 5 7 9]]\n"
     ]
    }
   ],
   "source": [
    "arr3 = np.array(range(10)).reshape(5, 2)\n",
    "print (arr3, arr3.shape)\n",
    "arr3 = np.arange(10).reshape(5, 2)\n",
    "print (arr3, arr3.shape)\n",
    "print (arr3.T)\n",
    "print (arr3.transpose())"
   ]
  },
  {
   "cell_type": "code",
   "execution_count": 58,
   "id": "a2349732-cd6c-4475-b4bf-6d2bc33afecd",
   "metadata": {},
   "outputs": [
    {
     "name": "stdout",
     "output_type": "stream",
     "text": [
      "[1. 1. 1. 1. 1. 1. 1. 1. 1. 1.]\n",
      "[1 1 1 1 1 1 1 1 1 1]\n",
      "[[1. 1. 1. 1. 1.]\n",
      " [1. 1. 1. 1. 1.]]\n",
      "[[1 1 1 1 1]\n",
      " [1 1 1 1 1]]\n",
      "[[1. 1. 1. 1. 1.]\n",
      " [1. 1. 1. 1. 1.]]\n",
      "[[1 1]\n",
      " [1 1]\n",
      " [1 1]\n",
      " [1 1]\n",
      " [1 1]]\n"
     ]
    }
   ],
   "source": [
    "print (np.ones(10))\n",
    "print (np.ones(10).astype(int))\n",
    "print (np.ones((2, 5)))\n",
    "print (np.ones((2, 5)).astype(int))\n",
    "print (np.ones(10).reshape(2, 5))\n",
    "print (np.ones(10).reshape(5, 2).astype(int))"
   ]
  },
  {
   "cell_type": "code",
   "execution_count": 60,
   "id": "2cbc4281-94b4-44c3-af71-0474b1d09295",
   "metadata": {},
   "outputs": [
    {
     "name": "stdout",
     "output_type": "stream",
     "text": [
      "[1. 1. 1. 1. 1. 1. 1. 1. 1. 1.]\n",
      "[7. 7. 7. 7. 7. 7. 7. 7. 7. 7.]\n",
      "[0. 0. 0. 0. 0. 0. 0. 0. 0. 0.]\n",
      "[7. 7. 7. 7. 7. 7. 7. 7. 7. 7.]\n"
     ]
    }
   ],
   "source": [
    "print (np.ones(10))\n",
    "print (np.ones(10) * 7)\n",
    "print (np.zeros(10))\n",
    "print (np.zeros(10) + 7)"
   ]
  },
  {
   "cell_type": "code",
   "execution_count": 63,
   "id": "12f692c8-b333-4dc8-8a7c-6a8c057f3482",
   "metadata": {},
   "outputs": [
    {
     "name": "stdout",
     "output_type": "stream",
     "text": [
      "[[ 0  1  2  3]\n",
      " [ 4  5  6  7]\n",
      " [ 8  9 10 11]]\n",
      "[ 0  1  2  3  4  5  6  7  8  9 10 11]\n",
      "[ 0  4  8  1  5  9  2  6 10  3  7 11]\n"
     ]
    }
   ],
   "source": [
    "arr2 = np.arange(12).reshape(3, 4)\n",
    "print (arr2)\n",
    "print (arr2.flatten())\n",
    "print(arr2.T.flatten())"
   ]
  },
  {
   "cell_type": "code",
   "execution_count": 67,
   "id": "b281a4bd-32ca-4e4d-bcdb-de0754a94877",
   "metadata": {},
   "outputs": [
    {
     "name": "stdout",
     "output_type": "stream",
     "text": [
      "[[0. 1. 2. 3. 4.]\n",
      " [5. 6. 7. 8. 9.]]\n",
      "Stored in C-style order (Row Major):\n",
      "[[0. 1. 2. 3. 4.]\n",
      " [5. 6. 7. 8. 9.]]\n",
      "0.0, 1.0, 2.0, 3.0, 4.0, 5.0, 6.0, 7.0, 8.0, 9.0, "
     ]
    }
   ],
   "source": [
    "matrix = np.arange(10, dtype = float).reshape((2, 5))\n",
    "print (matrix)\n",
    "print(\"Stored in C-style order (Row Major):\")\n",
    "cmatrix = matrix.copy(order = 'C')\n",
    "print (cmatrix)\n",
    "for x in np.nditer(cmatrix):\n",
    "    print (x, end = \", \")"
   ]
  },
  {
   "cell_type": "code",
   "execution_count": 68,
   "id": "1a5f50c1-1789-47f5-893e-c590e048f0a2",
   "metadata": {},
   "outputs": [
    {
     "name": "stdout",
     "output_type": "stream",
     "text": [
      "Stored in F-style order (Column Major):\n",
      "[[0. 1. 2. 3. 4.]\n",
      " [5. 6. 7. 8. 9.]]\n",
      "0.0, 5.0, 1.0, 6.0, 2.0, 7.0, 3.0, 8.0, 4.0, 9.0, "
     ]
    }
   ],
   "source": [
    "print(\"Stored in F-style order (Column Major):\")\n",
    "fmatrix = matrix.copy(order = 'F')\n",
    "print (fmatrix)\n",
    "for x in np.nditer(fmatrix):\n",
    "    print (x, end = \", \")"
   ]
  },
  {
   "cell_type": "markdown",
   "id": "fa1478b7-7fb3-411d-9049-c093eac71528",
   "metadata": {},
   "source": [
    "## **Append, Insert, Delete and Sort Operations**"
   ]
  },
  {
   "cell_type": "code",
   "execution_count": 79,
   "id": "3ce720a0-ba94-474a-ac1c-a7cc936105d9",
   "metadata": {},
   "outputs": [
    {
     "name": "stdout",
     "output_type": "stream",
     "text": [
      "[0 1 2 3 4 5 6 7 8 9] 10\n",
      "[ 0  1  2  3  4  5  6  7  8  9 10 11 12] 13\n",
      "[ 0  1  2 13 14 15  3  4  5  6  7  8  9 10 11 12] 16\n",
      "[ 0  1  2 13 14  5  6  7  8  9 10 11 12]\n",
      "[ 0  1  2  5  6  7  8  9 10 11 12 13 14]\n",
      "[  0  -1  -2  -5  -6  -7  -8  -9 -10 -11 -12 -13 -14]\n",
      "[14 13 12 11 10  9  8  7  6  5  2  1  0]\n"
     ]
    }
   ],
   "source": [
    "matrix = np.arange(10, dtype = np.int8)\n",
    "print (matrix, len(matrix))\n",
    "matrix = np.append(matrix, [10, 11, 12])\n",
    "print (matrix, len(matrix))\n",
    "matrix = np.insert(matrix, 3, [13, 14, 15])\n",
    "print (matrix, len(matrix))\n",
    "matrix = np.delete(matrix, [5, 6, 7])\n",
    "print (matrix)\n",
    "matrix = np.sort(matrix)\n",
    "print (matrix)\n",
    "print (-matrix)\n",
    "matrix = -np.sort(-matrix)\n",
    "print (matrix)"
   ]
  },
  {
   "cell_type": "markdown",
   "id": "5f9003d7-7dd5-4676-8bb9-b36299a8f64b",
   "metadata": {},
   "source": [
    "## **Concatenate and Stack of Two Arrays**"
   ]
  },
  {
   "cell_type": "code",
   "execution_count": 84,
   "id": "6757553e-ee23-40ce-8831-f95046e15792",
   "metadata": {},
   "outputs": [
    {
     "name": "stdout",
     "output_type": "stream",
     "text": [
      "First Array:\n",
      "[[1 2]\n",
      " [3 4]]\n",
      "Second Array:\n",
      "[[5 6]\n",
      " [7 8]]\n",
      "Joining these two arrays along axis 0\n",
      "[[1 2]\n",
      " [3 4]\n",
      " [5 6]\n",
      " [7 8]]\n",
      "Joining these two arrays along axis 1\n",
      "[[1 2 5 6]\n",
      " [3 4 7 8]]\n"
     ]
    }
   ],
   "source": [
    "a = np.array([[1, 2], [3, 4]])\n",
    "print (\"First Array:\")\n",
    "print (a)\n",
    "b = np.array([[5, 6], [7, 8]])\n",
    "print (\"Second Array:\")\n",
    "print (b)\n",
    "# both the arrays are of the same dimensions\n",
    "print (\"Joining these two arrays along axis 0\")\n",
    "print (np.concatenate((a, b)))\n",
    "print (\"Joining these two arrays along axis 1\")\n",
    "print (np.concatenate((a, b), axis = 1))"
   ]
  },
  {
   "cell_type": "code",
   "execution_count": 88,
   "id": "ffd45a74-25d4-47a5-931a-ede8d334e5a3",
   "metadata": {},
   "outputs": [
    {
     "name": "stdout",
     "output_type": "stream",
     "text": [
      "First Array:\n",
      "[[1 2 3]\n",
      " [4 5 6]\n",
      " [7 8 9]]\n",
      "Second Array:\n",
      "[[ 5  6]\n",
      " [ 7  8]\n",
      " [ 9 10]]\n",
      "Joining these two arrays along axis 1\n",
      "[[ 1  2  3  5  6]\n",
      " [ 4  5  6  7  8]\n",
      " [ 7  8  9  9 10]]\n"
     ]
    }
   ],
   "source": [
    "a = np.array([[1, 2, 3], [4, 5, 6], [7, 8, 9]])\n",
    "print (\"First Array:\")\n",
    "print (a)\n",
    "b = np.array([[5, 6], [7, 8], [9, 10]])\n",
    "print (\"Second Array:\")\n",
    "print (b)\n",
    "# both the arrays are not of the same dimensions\n",
    "print (\"Joining these two arrays along axis 1\")\n",
    "print (np.concatenate((a, b), axis = 1))"
   ]
  },
  {
   "cell_type": "code",
   "execution_count": 101,
   "id": "7302dffe-336c-4ac1-9b5b-f5ba01dbbfc4",
   "metadata": {},
   "outputs": [
    {
     "name": "stdout",
     "output_type": "stream",
     "text": [
      "[10 20 30 40 50 60 70 80] (8,) 1\n",
      "[[10 20 30 40 50 60 70 80]] (1, 8) 2\n",
      "[[[10 20 30 40 50 60 70 80]]] (1, 1, 8) 3\n",
      "[[10 20 30 40 50 60 70 80]] (1, 8) 2\n",
      "[10 20 30 40 50 60 70 80] (8,) 1\n"
     ]
    }
   ],
   "source": [
    "a = np.array([10, 20, 30, 40, 50, 60, 70, 80])\n",
    "print (a, a.shape, a.ndim)\n",
    "a = a.reshape(1, -1)\n",
    "print (a, a.shape, a.ndim)\n",
    "a = a.reshape(1, 1, -1)\n",
    "print (a, a.shape, a.ndim)\n",
    "a = a.reshape(1, -1)\n",
    "print (a, a.shape, a.ndim)\n",
    "a = a.reshape(-1)\n",
    "print (a, a.shape, a.ndim)"
   ]
  },
  {
   "cell_type": "code",
   "execution_count": 104,
   "id": "3684bc73-b987-4959-9543-5b324043e9e4",
   "metadata": {},
   "outputs": [
    {
     "name": "stdout",
     "output_type": "stream",
     "text": [
      "[10 20 30 40 50 60 70 80] (8,) 1\n",
      "[[[10 20]\n",
      "  [30 40]]\n",
      "\n",
      " [[50 60]\n",
      "  [70 80]]] (2, 2, 2) 3\n"
     ]
    }
   ],
   "source": [
    "a = np.array([10, 20, 30, 40, 50, 60, 70, 80])\n",
    "print (a, a.shape, a.ndim)\n",
    "a = a.reshape(2, -1, 2)\n",
    "print (a, a.shape, a.ndim)"
   ]
  },
  {
   "cell_type": "markdown",
   "id": "20d79620-e6e6-49db-b064-20ce2b065b4d",
   "metadata": {},
   "source": [
    "## **Selection**"
   ]
  },
  {
   "cell_type": "code",
   "execution_count": 114,
   "id": "fb47ca1d-6098-4a91-bcb9-434c2a674585",
   "metadata": {},
   "outputs": [
    {
     "name": "stdout",
     "output_type": "stream",
     "text": [
      "[11 82 53 94 15 26 57 98 69] 9\n",
      "53 15 94 57 98 98\n",
      "[94 15 26 57] [94 15 26 57] [94 15 26 57] [94 15 26 57]\n",
      "[94 15 26 57 98 69] [94 15 26 57 98 69]\n",
      "[11 82 53 94 15 26] [11 82 53 94 15 26]\n",
      "[69 98 57 26 15 94 53 82 11]\n",
      "[11 53 15 57 69] [82 94 26 98]\n"
     ]
    }
   ],
   "source": [
    "#                 0   1   2   3   4   5   6   7   8\n",
    "arr1 = np.array([11, 82, 53, 94, 15, 26, 57, 98, 69])\n",
    "#                -9  -8  -7  -6  -5  -4  -3  -2  -1\n",
    "print (arr1, len(arr1))\n",
    "print (arr1[2], arr1[4], arr1[-6], arr1[-3], arr1[7], arr1[-2])  # indexing\n",
    "print (arr1[3:7], arr1[-6:-2], arr1[3:-2], arr1[-6:7])           # slicing\n",
    "print (arr1[3:], arr1[-6:])\n",
    "print (arr1[:6], arr1[:-3])\n",
    "print (arr1[::-1])\n",
    "print (arr1[::2], arr1[1::2])"
   ]
  },
  {
   "cell_type": "markdown",
   "id": "ca10fbfc-2e2f-4875-b517-f2aa7952c8a9",
   "metadata": {},
   "source": [
    "## **Views and Copies**"
   ]
  },
  {
   "cell_type": "code",
   "execution_count": 123,
   "id": "c869dafe-d859-46d0-a8db-2ee749c8140e",
   "metadata": {},
   "outputs": [
    {
     "name": "stdout",
     "output_type": "stream",
     "text": [
      "[0 1 2 3 4 5 6 7 8 9] [5 6 7]\n",
      "[ 0  1  2  3  4 20 20 20  8  9]\n",
      "[20 20 20]\n",
      "[90 90 90] [ 0  1  2  3  4 90 90 90  8  9] <class 'numpy.ndarray'>\n"
     ]
    }
   ],
   "source": [
    "arr = np.arange(10)\n",
    "print (arr, arr[5:8])\n",
    "arr[5:8] = 20\n",
    "print (arr)\n",
    "arr_view = arr[5: 8]\n",
    "print (arr_view)\n",
    "arr_view[:] = 90\n",
    "print (arr_view, arr, type(arr_view))"
   ]
  },
  {
   "cell_type": "code",
   "execution_count": 124,
   "id": "f63ef220-c972-464f-98b9-55fcd3a352df",
   "metadata": {},
   "outputs": [
    {
     "name": "stdout",
     "output_type": "stream",
     "text": [
      "[0 1 2 3 4 5 6 7 8 9] [5 6 7]\n",
      "[ 0  1  2  3  4 20 20 20  8  9]\n",
      "[20 20 20]\n",
      "[90 90 90] [ 0  1  2  3  4 20 20 20  8  9] <class 'numpy.ndarray'>\n"
     ]
    }
   ],
   "source": [
    "arr = np.arange(10)\n",
    "print (arr, arr[5:8])\n",
    "arr[5:8] = 20\n",
    "print (arr)\n",
    "arr_copy = arr[5: 8].copy()\n",
    "print (arr_copy)\n",
    "arr_copy[:] = 90\n",
    "print (arr_copy, arr, type(arr_copy))"
   ]
  },
  {
   "cell_type": "markdown",
   "id": "1f006e78-2871-43b3-8d13-2a514383da1c",
   "metadata": {},
   "source": [
    "## **Using Boolean Arrays**"
   ]
  },
  {
   "cell_type": "code",
   "execution_count": 133,
   "id": "978646c1-8d44-4302-8c5f-a7b352aa2d3f",
   "metadata": {},
   "outputs": [
    {
     "name": "stdout",
     "output_type": "stream",
     "text": [
      "[1 2 3 4 5 6 7 8 9]\n",
      "[False False False False False  True  True  True  True]\n",
      "[6 7 8 9]\n",
      "[2 4 6 8] [1 3 5 7 9]\n",
      "[False  True False  True False  True False  True False]\n",
      "[ True False  True False  True False  True False  True] [1 3 5 7 9]\n"
     ]
    }
   ],
   "source": [
    "arr = np.arange(1, 10)\n",
    "print (arr)\n",
    "print (arr > 5)\n",
    "print (arr[arr > 5])\n",
    "print (arr[arr % 2 == 0], arr[arr % 2 == 1])\n",
    "print (arr % 2 == 0)\n",
    "print (~(arr % 2 == 0), arr[~(arr % 2 == 0)])"
   ]
  },
  {
   "cell_type": "code",
   "execution_count": 145,
   "id": "2ae72cab-4c4b-4b69-aecd-f4fc9afd7f30",
   "metadata": {},
   "outputs": [
    {
     "name": "stdout",
     "output_type": "stream",
     "text": [
      "['Atanu' 'Shyamal' 'Bithi' 'Atanu' 'Bob' 'Atanu' 'Bithi']\n",
      "[ True False False  True False  True False]\n",
      "['Shyamal' 'Bithi' 'Bob' 'Bithi']\n",
      "['Amitava' 'Shyamal' 'Bithi' 'Amitava' 'Bob' 'Amitava' 'Bithi']\n",
      "['Amitava' 'Bithi' 'Bob' 'Shyamal']\n"
     ]
    }
   ],
   "source": [
    "arr = np.array(['Atanu', 'Shyamal', 'Bithi', 'Atanu', 'Bob', 'Atanu', 'Bithi'])\n",
    "print (arr)\n",
    "print (arr == 'Atanu')\n",
    "print (arr[~(arr == 'Atanu')])\n",
    "arr[arr == 'Atanu'] = 'Amitava'\n",
    "print (arr)\n",
    "print (np.unique(arr))"
   ]
  },
  {
   "cell_type": "markdown",
   "id": "44db3e47-7a10-4c08-b26b-227ed691c50c",
   "metadata": {},
   "source": [
    "## **Vectorized Operations**"
   ]
  },
  {
   "cell_type": "code",
   "execution_count": 10,
   "id": "962a0168-233c-42f5-8cfa-3526e956cfbc",
   "metadata": {},
   "outputs": [
    {
     "name": "stdout",
     "output_type": "stream",
     "text": [
      "[0 1 2 3 4] 5 <class 'numpy.ndarray'>\n",
      "[0.         1.         1.41421356 1.73205081 2.        ]\n",
      "[0. 1. 2. 2. 2.]\n",
      "[0. 1. 1. 1. 2.]\n",
      "[0 2 4 6 8]\n",
      "[10 11 12 13 14] [ 0 10 20 30 40] [0.  0.1 0.2 0.3 0.4]\n"
     ]
    }
   ],
   "source": [
    "nums = np.arange(5)\n",
    "print (nums, len(nums), type(nums))\n",
    "print (np.sqrt(nums))\n",
    "print (np.ceil(np.sqrt(nums)))\n",
    "print (np.floor(np.sqrt(nums)))\n",
    "nums = np.arange(5)\n",
    "print (nums + np.arange(5))\n",
    "print (nums + 10, nums * 10, nums / 10)"
   ]
  },
  {
   "cell_type": "code",
   "execution_count": 12,
   "id": "8a5857a5-b3ad-481c-8d71-27ebc2de8971",
   "metadata": {},
   "outputs": [
    {
     "name": "stdout",
     "output_type": "stream",
     "text": [
      "[100, 200, 300, nan, 400, nan]\n",
      "[100. 200. 300.  nan 400.  nan]\n",
      "[False False False  True False  True]\n"
     ]
    }
   ],
   "source": [
    "import math\n",
    "list1 = [100, 200, 300, math.nan, 400, math.nan]\n",
    "print (list1)\n",
    "nums = np.array(list1)\n",
    "print (nums)\n",
    "print (np.isnan(nums))"
   ]
  },
  {
   "cell_type": "code",
   "execution_count": 15,
   "id": "c73f78e6-b7da-4eee-9e6c-8df5696f79f0",
   "metadata": {},
   "outputs": [
    {
     "name": "stdout",
     "output_type": "stream",
     "text": [
      "[ 100 -300  200  400 -500] 5 400 -500\n",
      "[ 500  340 -340  900 -500] 5 900 -500\n",
      "[ 500  340  200  900 -500]\n",
      "[ 100 -300 -340  400 -500]\n"
     ]
    }
   ],
   "source": [
    "nums1 = np.array([100, -300, 200, 400, -500])\n",
    "nums2 = np.array([500, 340, -340, 900, -500])\n",
    "print (nums1, len(nums1), np.max(nums1), np.min(nums1))\n",
    "print (nums2, len(nums2), np.max(nums2), np.min(nums2))\n",
    "print (np.maximum(nums1, nums2))\n",
    "print (np.minimum(nums1, nums2))"
   ]
  },
  {
   "cell_type": "code",
   "execution_count": 22,
   "id": "a93c61ca-dd24-4baf-ae97-1c7dd838c819",
   "metadata": {},
   "outputs": [
    {
     "name": "stdout",
     "output_type": "stream",
     "text": [
      "[-0.93044328 -1.40883935 -0.30339014  0.89002695  1.2002423   0.25456639\n",
      "  0.22539632  1.10119198 -0.58521894 -0.84656621] 1000000\n",
      "-0.00020067944488309713 0.9996473671896245\n"
     ]
    }
   ],
   "source": [
    "# dealing with random numbers \n",
    "vect1 = np.random.randn(1000000)   # normalized random numbers, where average ~= 0, std. ~= 1\n",
    "print (vect1[:10], len(vect1))\n",
    "print (np.mean(vect1), np.std(vect1))"
   ]
  },
  {
   "cell_type": "code",
   "execution_count": 29,
   "id": "1fbf6d44-7a22-4074-88fe-fd8eebc2be5b",
   "metadata": {},
   "outputs": [
    {
     "name": "stdout",
     "output_type": "stream",
     "text": [
      "[[-0.6448061   1.1621941 ]\n",
      " [ 1.2780645  -0.27034694]\n",
      " [-1.25469253 -0.30905326]\n",
      " [ 1.63743598 -0.94896284]] 4 6\n",
      "[ 1.01600184 -0.36616894] [ 0.517388    1.00771756 -1.56374579  0.68847314]\n",
      "\n",
      "[-1.82893215  2.05571075 -0.53799508 -0.78888467 -1.07900152  2.01875938\n",
      "  1.75577331 -0.95443606] 0 1\n"
     ]
    }
   ],
   "source": [
    "rnd = np.random.randn(4, 2)\n",
    "print (rnd, np.argmin(rnd), np.argmax(rnd))\n",
    "print (rnd.sum(axis = 0), rnd.sum(axis = 1))\n",
    "print ()\n",
    "rnd = np.random.randn(8)\n",
    "print (rnd, np.argmin(rnd), np.argmax(rnd))"
   ]
  },
  {
   "cell_type": "code",
   "execution_count": 32,
   "id": "ff54bc40-23cb-4a52-9574-2c85f692ece1",
   "metadata": {},
   "outputs": [
    {
     "name": "stdout",
     "output_type": "stream",
     "text": [
      "[[ 0.27029833 -0.36089779]\n",
      " [ 0.34762544  2.48104265]\n",
      " [-0.16833417  0.89157877]\n",
      " [ 1.00902408  0.32163023]]\n",
      "[[ True False]\n",
      " [ True  True]\n",
      " [False  True]\n",
      " [ True  True]]\n",
      "6\n",
      "True\n",
      "False\n"
     ]
    }
   ],
   "source": [
    "# boolean arrays\n",
    "rnd = np.random.randn(4, 2)\n",
    "print (rnd)\n",
    "print (rnd >= 0)\n",
    "print ((rnd >= 0).sum())\n",
    "print ((rnd >= 0).any())\n",
    "print ((rnd >= 0).all())"
   ]
  },
  {
   "cell_type": "code",
   "execution_count": 63,
   "id": "e5fd91e1-04b8-4b25-9cd5-26bb2973c00c",
   "metadata": {},
   "outputs": [
    {
     "name": "stdout",
     "output_type": "stream",
     "text": [
      "[[0.14792062 0.22829836 0.80749336 0.29847458]\n",
      " [0.18570674 0.77213731 0.40543952 0.99590454]]\n",
      "[[ 2.1724167  -0.20336104 -0.31678462  0.0668336 ]\n",
      " [ 0.99628392 -0.53362756 -1.53335996 -0.34180059]]\n",
      "[1 0 0 0 0 1 1 1 1 1 0 0 0 0 0 0 1 1 1 0]\n"
     ]
    }
   ],
   "source": [
    "# applying seed value\n",
    "np.random.seed(104)\n",
    "nums = np.random.rand(2, 4)\n",
    "print (nums)\n",
    "nums = np.random.randn(2, 4)\n",
    "print (nums)\n",
    "nums = np.random.randint(0, 2, 20)\n",
    "print (nums)"
   ]
  },
  {
   "cell_type": "code",
   "execution_count": 99,
   "id": "19b9a48f-cc9c-4423-963e-e6faf5a12952",
   "metadata": {},
   "outputs": [
    {
     "name": "stdout",
     "output_type": "stream",
     "text": [
      "[[0.70923555 0.79514402 0.04947955 0.02578423]\n",
      " [0.08920084 0.04882322 0.47497821 0.24237993]]\n"
     ]
    }
   ],
   "source": [
    "nums = np.random.rand(2, 4)\n",
    "print (nums)"
   ]
  },
  {
   "cell_type": "code",
   "execution_count": 118,
   "id": "32e33aca-761b-481d-9811-091abf53f20f",
   "metadata": {},
   "outputs": [
    {
     "name": "stdout",
     "output_type": "stream",
     "text": [
      "distance = 5.861065048207792\n",
      "distance = 5.861065048207792\n",
      "distance = 5.861065048207792\n"
     ]
    }
   ],
   "source": [
    "# calculating Eucledian Distance\n",
    "vect1 = np.random.randn(10)\n",
    "vect2 = np.random.randn(10)\n",
    "dist = 0\n",
    "for i in range(len(vect1)):\n",
    "    dist = dist + (vect1[i] - vect2[i]) ** 2\n",
    "print (\"distance =\", np.sqrt(dist))\n",
    "print (\"distance =\", np.sqrt(np.sum((vect1 - vect2) ** 2)))\n",
    "print (\"distance =\", np.sqrt(np.sum(pow(np.subtract(vect1, vect2), 2))))"
   ]
  },
  {
   "cell_type": "markdown",
   "id": "392b9239-d535-486f-9c5a-d56447aafe72",
   "metadata": {},
   "source": [
    "## **Broadcasting**"
   ]
  },
  {
   "attachments": {
    "bed718c9-f093-4b1a-9436-35b0f6e37ebb.png": {
     "image/png": "[encoded data removed]"
    }
   },
   "cell_type": "markdown",
   "id": "d3746da2-cee7-48f4-afe7-929dfa785207",
   "metadata": {},
   "source": [
    "![image.png](attachment:bed718c9-f093-4b1a-9436-35b0f6e37ebb.png)"
   ]
  },
  {
   "cell_type": "code",
   "execution_count": 101,
   "id": "8571db68-2019-4a89-a2be-10198173c73b",
   "metadata": {},
   "outputs": [
    {
     "name": "stdout",
     "output_type": "stream",
     "text": [
      "[[ 0  0  0]\n",
      " [10 10 10]\n",
      " [20 20 20]\n",
      " [30 30 30]] <class 'numpy.ndarray'>\n",
      "[[ 0]\n",
      " [10]\n",
      " [20]\n",
      " [30]] <class 'numpy.ndarray'>\n"
     ]
    }
   ],
   "source": [
    "a1 = np.array([[ 0,  0,  0],\n",
    "               [10, 10, 10],\n",
    "               [20, 20, 20],\n",
    "               [30, 30, 30]])\n",
    "print (a1, type(a1))\n",
    "a2 = np.array([[0], [10], [20], [30]])\n",
    "print (a2, type(a2))"
   ]
  },
  {
   "cell_type": "code",
   "execution_count": 102,
   "id": "f368068e-704e-496d-8b14-8514f8d1e093",
   "metadata": {},
   "outputs": [
    {
     "name": "stdout",
     "output_type": "stream",
     "text": [
      "[[0 1 2]\n",
      " [0 1 2]\n",
      " [0 1 2]\n",
      " [0 1 2]] <class 'numpy.ndarray'>\n",
      "[0 1 2] <class 'numpy.ndarray'>\n"
     ]
    }
   ],
   "source": [
    "b1 = np.array([[0, 1, 2],\n",
    "               [0, 1, 2],\n",
    "               [0, 1, 2],\n",
    "               [0, 1, 2]])\n",
    "print (b1, type(b1))\n",
    "b2 = np.array([0, 1, 2])\n",
    "print (b2, type(b2))"
   ]
  },
  {
   "cell_type": "code",
   "execution_count": 104,
   "id": "bd4f5c9e-0474-4aeb-ad4e-b19ea6140a3d",
   "metadata": {},
   "outputs": [
    {
     "name": "stdout",
     "output_type": "stream",
     "text": [
      "[[ 0  1  2]\n",
      " [10 11 12]\n",
      " [20 21 22]\n",
      " [30 31 32]]\n",
      "[[ 0  1  2]\n",
      " [10 11 12]\n",
      " [20 21 22]\n",
      " [30 31 32]]\n",
      "[[ 0  1  2]\n",
      " [10 11 12]\n",
      " [20 21 22]\n",
      " [30 31 32]]\n",
      "[[ 0  1  2]\n",
      " [10 11 12]\n",
      " [20 21 22]\n",
      " [30 31 32]]\n"
     ]
    }
   ],
   "source": [
    "print (a1 + b1)\n",
    "print (a1 + b2)\n",
    "print (a2 + b1)\n",
    "print (a2 + b2)"
   ]
  },
  {
   "cell_type": "code",
   "execution_count": 107,
   "id": "f7367d9e-e7e4-4a51-83de-f03a7ddc9860",
   "metadata": {},
   "outputs": [
    {
     "name": "stdout",
     "output_type": "stream",
     "text": [
      "[[ 0  1  2]\n",
      " [10 11 12]\n",
      " [20 21 22]\n",
      " [30 31 32]]\n",
      "[[ 0  1  2]\n",
      " [10 11 12]\n",
      " [20 21 22]\n",
      " [30 31 32]]\n",
      "[[ 0  1  2]\n",
      " [10 11 12]\n",
      " [20 21 22]\n",
      " [30 31 32]]\n",
      "[[ 0  1  2]\n",
      " [10 11 12]\n",
      " [20 21 22]\n",
      " [30 31 32]]\n"
     ]
    }
   ],
   "source": [
    "print (np.add(a1, b1))\n",
    "print (np.add(a1, b2))\n",
    "print (np.add(a2, b1))\n",
    "print (np.add(a2, b2))"
   ]
  },
  {
   "cell_type": "code",
   "execution_count": null,
   "id": "f2565bb3-6932-493d-9d28-1534ba74b8ff",
   "metadata": {},
   "outputs": [],
   "source": []
  }
 ],
 "metadata": {
  "kernelspec": {
   "display_name": "Python 3 (ipykernel)",
   "language": "python",
   "name": "python3"
  },
  "language_info": {
   "codemirror_mode": {
    "name": "ipython",
    "version": 3
   },
   "file_extension": ".py",
   "mimetype": "text/x-python",
   "name": "python",
   "nbconvert_exporter": "python",
   "pygments_lexer": "ipython3",
   "version": "3.11.7"
  }
 },
 "nbformat": 4,
 "nbformat_minor": 5
}
